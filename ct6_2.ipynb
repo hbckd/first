{
  "nbformat": 4,
  "nbformat_minor": 0,
  "metadata": {
    "colab": {
      "provenance": [],
      "authorship_tag": "ABX9TyOXir+GpoAwN6AOkcrX38Ts",
      "include_colab_link": true
    },
    "kernelspec": {
      "name": "python3",
      "display_name": "Python 3"
    },
    "language_info": {
      "name": "python"
    }
  },
  "cells": [
    {
      "cell_type": "markdown",
      "metadata": {
        "id": "view-in-github",
        "colab_type": "text"
      },
      "source": [
        "<a href=\"https://colab.research.google.com/github/hbckd/first/blob/main/ct6_2.ipynb\" target=\"_parent\"><img src=\"https://colab.research.google.com/assets/colab-badge.svg\" alt=\"Open In Colab\"/></a>"
      ]
    },
    {
      "cell_type": "markdown",
      "source": [
        "학생 10명의 성적을 받아 평균을 계산하는 알고리즘과 이것을 구현한다."
      ],
      "metadata": {
        "id": "MZhymPDuXpFT"
      }
    },
    {
      "cell_type": "code",
      "source": [
        "total=0                            #합계를 0으로 설정\n",
        "counter=1                          #횟수를 1로 설정\n",
        "while counter<=10:                 #횟수를 10까지 반봑\n",
        "    grade=int(input(\"grade\"))      #사용자에게 성적을 받음\n",
        "    total=grade+total              #합계에 성적을 추가\n",
        "    counter=counter+1              #횟수를 1회 추가\n",
        "average=total/10                   #총합을 10으로 나눔\n",
        "print(average)                     #평균 입력0"
      ],
      "metadata": {
        "colab": {
          "base_uri": "https://localhost:8080/"
        },
        "id": "JDCyX9iMXyTo",
        "outputId": "b24fbb56-aef1-4b63-f7ba-43c2f5df3efd"
      },
      "execution_count": 55,
      "outputs": [
        {
          "output_type": "stream",
          "name": "stdout",
          "text": [
            "grade10\n",
            "grade10\n",
            "grade10\n",
            "grade10\n",
            "grade1\n",
            "grade9\n",
            "grade10\n",
            "grade10\n",
            "grade10\n",
            "grade10\n",
            "9.0\n"
          ]
        }
      ]
    }
  ]
}