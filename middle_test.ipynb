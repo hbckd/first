{
  "nbformat": 4,
  "nbformat_minor": 0,
  "metadata": {
    "colab": {
      "provenance": [],
      "authorship_tag": "ABX9TyOS9U3XsKWSDKSvjaow2tRu",
      "include_colab_link": true
    },
    "kernelspec": {
      "name": "python3",
      "display_name": "Python 3"
    },
    "language_info": {
      "name": "python"
    }
  },
  "cells": [
    {
      "cell_type": "markdown",
      "metadata": {
        "id": "view-in-github",
        "colab_type": "text"
      },
      "source": [
        "<a href=\"https://colab.research.google.com/github/hbckd/first/blob/main/middle_test.ipynb\" target=\"_parent\"><img src=\"https://colab.research.google.com/assets/colab-badge.svg\" alt=\"Open In Colab\"/></a>"
      ]
    },
    {
      "cell_type": "markdown",
      "source": [
        "상품의 가격 계산하기\n",
        "\n"
      ],
      "metadata": {
        "id": "jYnyLsqJPWU5"
      }
    },
    {
      "cell_type": "code",
      "source": [
        "n1=int(input(\"상품의 정가를 입력하시오\"))                    #사용자로부터 상품의 정가를 받아라.\n",
        "n2=int(input(\"정가의 몇%의 이익을 붙일지 정하시오\"))         #사용자로부터 상품에 붙일 이익을 %값으로 받아라.\n",
        "n3=int(n2/100*n1)                                            #n3 변수에 사용자의 이익을 계산하여 저장해라.\n",
        "total=n1+n3                                                  #total값에 판매 금액을 계산하여 저장해라.\n",
        "print('판매 금액=' , total, '얻는 이익=' , n3)               #판매 금액과 얻는 이익을 화면에 출력해라."
      ],
      "metadata": {
        "colab": {
          "base_uri": "https://localhost:8080/"
        },
        "id": "2vzwjl6PRErp",
        "outputId": "e84c3ae9-73b0-4182-9e0f-3f40ce31847a"
      },
      "execution_count": 14,
      "outputs": [
        {
          "output_type": "stream",
          "name": "stdout",
          "text": [
            "상품의 정가를 입력하시오10000\n",
            "정가의 몇%의 이익을 붙일지 정하시오50\n",
            "판매 금액= 15000 얻는 이익= 5000\n"
          ]
        }
      ]
    }
  ]
}